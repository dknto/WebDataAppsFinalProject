{
 "cells": [
  {
   "cell_type": "code",
   "execution_count": 1,
   "metadata": {},
   "outputs": [],
   "source": [
    "import pandas as pd\n",
    "import sqlalchemy as db\n",
    "from sqlalchemy import inspect"
   ]
  },
  {
   "cell_type": "code",
   "execution_count": 2,
   "metadata": {},
   "outputs": [],
   "source": [
    "engine = db.create_engine(\"sqlite:///players_hof.db\", echo=True)"
   ]
  },
  {
   "cell_type": "code",
   "execution_count": 3,
   "metadata": {},
   "outputs": [],
   "source": [
    "conn = engine.connect()"
   ]
  },
  {
   "cell_type": "code",
   "execution_count": 4,
   "metadata": {},
   "outputs": [],
   "source": [
    "metadata = db.MetaData()"
   ]
  },
  {
   "cell_type": "code",
   "execution_count": 5,
   "metadata": {},
   "outputs": [],
   "source": [
    "bdplayers = db.Table('HOF Players', metadata,\n",
    "    db.Column('Id', db.Integer(), primary_key=True),\n",
    "    db.Column('Name', db.String(255), nullable=False),\n",
    "    db.Column('Position', db.String(255), nullable=False),\n",
    "    db.Column('All Pro Seasons', db.Integer(), nullable=False),\n",
    "    db.Column('Pro Bowl Seasons', db.Integer(), nullable=False),\n",
    "    db.Column('Games Played', db.Integer(), nullable=False)\n",
    ")"
   ]
  },
  {
   "cell_type": "code",
   "execution_count": 6,
   "metadata": {},
   "outputs": [
    {
     "name": "stdout",
     "output_type": "stream",
     "text": [
      "2024-05-27 22:15:09,232 INFO sqlalchemy.engine.Engine BEGIN (implicit)\n",
      "2024-05-27 22:15:09,233 INFO sqlalchemy.engine.Engine PRAGMA main.table_info(\"HOF Players\")\n",
      "2024-05-27 22:15:09,234 INFO sqlalchemy.engine.Engine [raw sql] ()\n",
      "2024-05-27 22:15:09,237 INFO sqlalchemy.engine.Engine ROLLBACK\n",
      "2024-05-27 22:15:09,239 INFO sqlalchemy.engine.Engine BEGIN (implicit)\n",
      "2024-05-27 22:15:09,240 INFO sqlalchemy.engine.Engine \n",
      "DROP TABLE \"HOF Players\"\n",
      "2024-05-27 22:15:09,241 INFO sqlalchemy.engine.Engine [no key 0.00122s] ()\n",
      "2024-05-27 22:15:09,305 INFO sqlalchemy.engine.Engine COMMIT\n",
      "Table 'HOF Players' dropped\n"
     ]
    }
   ],
   "source": [
    "inspector = inspect(engine)\n",
    "\n",
    "if inspector.has_table('HOF Players'):\n",
    "    bdplayers.drop(engine)\n",
    "    print(\"Table 'HOF Players' dropped\")"
   ]
  },
  {
   "cell_type": "code",
   "execution_count": 7,
   "metadata": {},
   "outputs": [
    {
     "name": "stdout",
     "output_type": "stream",
     "text": [
      "2024-05-27 22:15:11,596 INFO sqlalchemy.engine.Engine BEGIN (implicit)\n",
      "2024-05-27 22:15:11,597 INFO sqlalchemy.engine.Engine PRAGMA main.table_info(\"HOF Players\")\n",
      "2024-05-27 22:15:11,598 INFO sqlalchemy.engine.Engine [raw sql] ()\n",
      "2024-05-27 22:15:11,599 INFO sqlalchemy.engine.Engine PRAGMA temp.table_info(\"HOF Players\")\n",
      "2024-05-27 22:15:11,600 INFO sqlalchemy.engine.Engine [raw sql] ()\n",
      "2024-05-27 22:15:11,602 INFO sqlalchemy.engine.Engine \n",
      "CREATE TABLE \"HOF Players\" (\n",
      "\t\"Id\" INTEGER NOT NULL, \n",
      "\t\"Name\" VARCHAR(255) NOT NULL, \n",
      "\t\"Position\" VARCHAR(255) NOT NULL, \n",
      "\t\"All Pro Seasons\" INTEGER NOT NULL, \n",
      "\t\"Pro Bowl Seasons\" INTEGER NOT NULL, \n",
      "\t\"Games Played\" INTEGER NOT NULL, \n",
      "\tPRIMARY KEY (\"Id\")\n",
      ")\n",
      "\n",
      "\n",
      "2024-05-27 22:15:11,603 INFO sqlalchemy.engine.Engine [no key 0.00107s] ()\n",
      "2024-05-27 22:15:11,611 INFO sqlalchemy.engine.Engine COMMIT\n"
     ]
    }
   ],
   "source": [
    "metadata.create_all(engine)"
   ]
  },
  {
   "cell_type": "code",
   "execution_count": 10,
   "metadata": {},
   "outputs": [],
   "source": [
    "df = pd.read_csv('C:/Users/2302670/Documents/AP2_WebDataApps/0_bases_originais/dados_originais.csv')"
   ]
  },
  {
   "cell_type": "code",
   "execution_count": 11,
   "metadata": {},
   "outputs": [],
   "source": [
    "if 'Unnamed: 0' in df.columns:\n",
    "    df = df.drop(columns=['Unnamed: 0'])"
   ]
  },
  {
   "cell_type": "code",
   "execution_count": 12,
   "metadata": {},
   "outputs": [],
   "source": [
    "\n",
    "df.columns= ['Name', 'Position', 'All Pro Seasons', 'Pro Bowl Seasons', 'Games Played']"
   ]
  },
  {
   "cell_type": "code",
   "execution_count": 13,
   "metadata": {},
   "outputs": [
    {
     "name": "stdout",
     "output_type": "stream",
     "text": [
      "2024-05-27 22:16:27,748 INFO sqlalchemy.engine.Engine BEGIN (implicit)\n",
      "2024-05-27 22:16:27,755 INFO sqlalchemy.engine.Engine PRAGMA main.table_info(\"HOF Players\")\n",
      "2024-05-27 22:16:27,756 INFO sqlalchemy.engine.Engine [raw sql] ()\n",
      "2024-05-27 22:16:27,775 INFO sqlalchemy.engine.Engine INSERT INTO \"HOF Players\" (\"Name\", \"Position\", \"All Pro Seasons\", \"Pro Bowl Seasons\", \"Games Played\") VALUES (?, ?, ?, ?, ?)\n",
      "2024-05-27 22:16:27,777 INFO sqlalchemy.engine.Engine [generated in 0.00231s] [('Julius Peppers', 'DE', 3, 9, 266), ('Dwight Freeney', 'DE', 3, 7, 218), ('Darrelle Revis', 'DB', 4, 7, 145), ('Joe Thomas', 'T', 6, 10, 167), ('Devin Hester', 'PR', 3, 4, 156), ('Andre Johnson', 'WR', 2, 7, 193), ('DeMarcus Ware', 'LB', 4, 9, 178), ('Calvin Johnson', 'WR', 3, 6, 135)  ... displaying 10 of 100 total bound parameter sets ...  ('Eric Dickerson', 'RB', 5, 6, 146), ('Lawrence Taylor', 'LB', 8, 10, 184)]\n",
      "2024-05-27 22:16:27,782 INFO sqlalchemy.engine.Engine SELECT name FROM sqlite_master WHERE type='table' AND name NOT LIKE 'sqlite~_%' ESCAPE '~' ORDER BY name\n",
      "2024-05-27 22:16:27,783 INFO sqlalchemy.engine.Engine [raw sql] ()\n",
      "2024-05-27 22:16:27,806 INFO sqlalchemy.engine.Engine COMMIT\n"
     ]
    },
    {
     "data": {
      "text/plain": [
       "100"
      ]
     },
     "execution_count": 13,
     "metadata": {},
     "output_type": "execute_result"
    }
   ],
   "source": [
    "df.to_sql('HOF Players', con=engine, if_exists='append', index=False)"
   ]
  }
 ],
 "metadata": {
  "kernelspec": {
   "display_name": "venv",
   "language": "python",
   "name": "python3"
  },
  "language_info": {
   "codemirror_mode": {
    "name": "ipython",
    "version": 3
   },
   "file_extension": ".py",
   "mimetype": "text/x-python",
   "name": "python",
   "nbconvert_exporter": "python",
   "pygments_lexer": "ipython3",
   "version": "3.12.1"
  }
 },
 "nbformat": 4,
 "nbformat_minor": 2
}
