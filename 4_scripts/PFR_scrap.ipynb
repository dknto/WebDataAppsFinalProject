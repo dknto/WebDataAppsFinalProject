{
 "cells": [
  {
   "cell_type": "code",
   "execution_count": 1,
   "metadata": {},
   "outputs": [],
   "source": [
    "import pandas as pd\n",
    "from selenium import webdriver\n",
    "from selenium.webdriver.common.by import By"
   ]
  },
  {
   "cell_type": "code",
   "execution_count": 2,
   "metadata": {},
   "outputs": [],
   "source": [
    "navegador = webdriver.Firefox()"
   ]
  },
  {
   "cell_type": "code",
   "execution_count": 3,
   "metadata": {},
   "outputs": [],
   "source": [
    "navegador.get('https://www.pro-football-reference.com')"
   ]
  },
  {
   "cell_type": "code",
   "execution_count": 4,
   "metadata": {},
   "outputs": [],
   "source": [
    "navegador.find_element(By.XPATH, '/html/body/div[2]/div[2]/div/div[1]/h2/a').click()"
   ]
  },
  {
   "cell_type": "code",
   "execution_count": 5,
   "metadata": {},
   "outputs": [],
   "source": [
    "navegador.find_element(By.XPATH, '/html/body/div[2]/div[3]/p/a').click()"
   ]
  },
  {
   "cell_type": "code",
   "execution_count": 6,
   "metadata": {},
   "outputs": [],
   "source": [
    "navegador.find_element(By.XPATH, '/html/body/div[2]/div[5]/div[1]/div[2]/table/thead/tr[2]/th[6]').click()"
   ]
  },
  {
   "cell_type": "code",
   "execution_count": 7,
   "metadata": {},
   "outputs": [],
   "source": [
    "navegador.find_element(By.XPATH, '/html/body/div[2]/div[5]/div[1]/div[2]/table/thead/tr[2]/th[6]').click()"
   ]
  },
  {
   "cell_type": "code",
   "execution_count": 8,
   "metadata": {},
   "outputs": [],
   "source": [
    "lista_nomes = []\n",
    "\n",
    "for i in range(1, 101):\n",
    "    nome = navegador.find_element(By.XPATH, '/html/body/div[2]/div[5]/div[1]/div[2]/table/tbody/tr['+str(i)+']/td[1]/a').text\n",
    "    lista_nomes.append(nome)\n"
   ]
  },
  {
   "cell_type": "code",
   "execution_count": 9,
   "metadata": {},
   "outputs": [],
   "source": [
    "lista_posicao = []\n",
    "\n",
    "for i in range(1, 101):\n",
    "    posicao = navegador.find_element(By.XPATH, '/html/body/div[2]/div[5]/div[1]/div[2]/table/tbody/tr['+str(i)+']/td[2]').text\n",
    "    lista_posicao.append(posicao)\n",
    "    "
   ]
  },
  {
   "cell_type": "code",
   "execution_count": 10,
   "metadata": {},
   "outputs": [],
   "source": [
    "lista_all_pro = []\n",
    "\n",
    "for i in range(1, 101):\n",
    "    temporada_allpro = navegador.find_element(By.XPATH, '/html/body/div[2]/div[5]/div[1]/div[2]/table/tbody/tr['+str(i)+']/td[6]').text\n",
    "    lista_all_pro.append(temporada_allpro)\n",
    "    "
   ]
  },
  {
   "cell_type": "code",
   "execution_count": 11,
   "metadata": {},
   "outputs": [],
   "source": [
    "lista_pro_bowl = []\n",
    "\n",
    "for i in range(1, 101):\n",
    "    temporada_probowl = navegador.find_element(By.XPATH, '/html/body/div[2]/div[5]/div[1]/div[2]/table/tbody/tr['+str(i)+']/td[7]').text\n",
    "    lista_pro_bowl.append(temporada_probowl)\n",
    "    "
   ]
  },
  {
   "cell_type": "code",
   "execution_count": 12,
   "metadata": {},
   "outputs": [],
   "source": [
    "lista_total_jogos = []\n",
    "\n",
    "for i in range(1, 101):\n",
    "    total_jogos = navegador.find_element(By.XPATH, '/html/body/div[2]/div[5]/div[1]/div[2]/table/tbody/tr['+str(i)+']/td[10]').text\n",
    "    lista_total_jogos.append(total_jogos)\n",
    "    "
   ]
  },
  {
   "cell_type": "code",
   "execution_count": 13,
   "metadata": {},
   "outputs": [],
   "source": [
    "jogadores_hof = pd.DataFrame(lista_nomes, columns=['Nomes'])"
   ]
  },
  {
   "cell_type": "code",
   "execution_count": 14,
   "metadata": {},
   "outputs": [],
   "source": [
    "jogadores_hof['Posição'] = lista_posicao\n",
    "jogadores_hof['Temporadas All-Pro'] = lista_all_pro\n",
    "jogadores_hof['Temporadas Pro Bowl'] = lista_pro_bowl\n",
    "jogadores_hof['Total de jogos'] = lista_total_jogos"
   ]
  },
  {
   "cell_type": "code",
   "execution_count": 15,
   "metadata": {},
   "outputs": [
    {
     "data": {
      "text/html": [
       "<div>\n",
       "<style scoped>\n",
       "    .dataframe tbody tr th:only-of-type {\n",
       "        vertical-align: middle;\n",
       "    }\n",
       "\n",
       "    .dataframe tbody tr th {\n",
       "        vertical-align: top;\n",
       "    }\n",
       "\n",
       "    .dataframe thead th {\n",
       "        text-align: right;\n",
       "    }\n",
       "</style>\n",
       "<table border=\"1\" class=\"dataframe\">\n",
       "  <thead>\n",
       "    <tr style=\"text-align: right;\">\n",
       "      <th></th>\n",
       "      <th>Nomes</th>\n",
       "      <th>Posição</th>\n",
       "      <th>Temporadas All-Pro</th>\n",
       "      <th>Temporadas Pro Bowl</th>\n",
       "      <th>Total de jogos</th>\n",
       "    </tr>\n",
       "  </thead>\n",
       "  <tbody>\n",
       "    <tr>\n",
       "      <th>0</th>\n",
       "      <td>Julius Peppers</td>\n",
       "      <td>DE</td>\n",
       "      <td>3</td>\n",
       "      <td>9</td>\n",
       "      <td>266</td>\n",
       "    </tr>\n",
       "    <tr>\n",
       "      <th>1</th>\n",
       "      <td>Dwight Freeney</td>\n",
       "      <td>DE</td>\n",
       "      <td>3</td>\n",
       "      <td>7</td>\n",
       "      <td>218</td>\n",
       "    </tr>\n",
       "    <tr>\n",
       "      <th>2</th>\n",
       "      <td>Darrelle Revis</td>\n",
       "      <td>DB</td>\n",
       "      <td>4</td>\n",
       "      <td>7</td>\n",
       "      <td>145</td>\n",
       "    </tr>\n",
       "    <tr>\n",
       "      <th>3</th>\n",
       "      <td>Joe Thomas</td>\n",
       "      <td>T</td>\n",
       "      <td>6</td>\n",
       "      <td>10</td>\n",
       "      <td>167</td>\n",
       "    </tr>\n",
       "    <tr>\n",
       "      <th>4</th>\n",
       "      <td>Devin Hester</td>\n",
       "      <td>PR</td>\n",
       "      <td>3</td>\n",
       "      <td>4</td>\n",
       "      <td>156</td>\n",
       "    </tr>\n",
       "    <tr>\n",
       "      <th>...</th>\n",
       "      <td>...</td>\n",
       "      <td>...</td>\n",
       "      <td>...</td>\n",
       "      <td>...</td>\n",
       "      <td>...</td>\n",
       "    </tr>\n",
       "    <tr>\n",
       "      <th>95</th>\n",
       "      <td>James Lofton</td>\n",
       "      <td>WR</td>\n",
       "      <td>1</td>\n",
       "      <td>8</td>\n",
       "      <td>233</td>\n",
       "    </tr>\n",
       "    <tr>\n",
       "      <th>96</th>\n",
       "      <td>Mike Munchak</td>\n",
       "      <td>G</td>\n",
       "      <td>2</td>\n",
       "      <td>9</td>\n",
       "      <td>159</td>\n",
       "    </tr>\n",
       "    <tr>\n",
       "      <th>97</th>\n",
       "      <td>Howie Long</td>\n",
       "      <td>DE</td>\n",
       "      <td>2</td>\n",
       "      <td>8</td>\n",
       "      <td>179</td>\n",
       "    </tr>\n",
       "    <tr>\n",
       "      <th>98</th>\n",
       "      <td>Eric Dickerson</td>\n",
       "      <td>RB</td>\n",
       "      <td>5</td>\n",
       "      <td>6</td>\n",
       "      <td>146</td>\n",
       "    </tr>\n",
       "    <tr>\n",
       "      <th>99</th>\n",
       "      <td>Lawrence Taylor</td>\n",
       "      <td>LB</td>\n",
       "      <td>8</td>\n",
       "      <td>10</td>\n",
       "      <td>184</td>\n",
       "    </tr>\n",
       "  </tbody>\n",
       "</table>\n",
       "<p>100 rows × 5 columns</p>\n",
       "</div>"
      ],
      "text/plain": [
       "              Nomes Posição Temporadas All-Pro Temporadas Pro Bowl  \\\n",
       "0    Julius Peppers      DE                  3                   9   \n",
       "1    Dwight Freeney      DE                  3                   7   \n",
       "2    Darrelle Revis      DB                  4                   7   \n",
       "3        Joe Thomas       T                  6                  10   \n",
       "4      Devin Hester      PR                  3                   4   \n",
       "..              ...     ...                ...                 ...   \n",
       "95     James Lofton      WR                  1                   8   \n",
       "96     Mike Munchak       G                  2                   9   \n",
       "97       Howie Long      DE                  2                   8   \n",
       "98   Eric Dickerson      RB                  5                   6   \n",
       "99  Lawrence Taylor      LB                  8                  10   \n",
       "\n",
       "   Total de jogos  \n",
       "0             266  \n",
       "1             218  \n",
       "2             145  \n",
       "3             167  \n",
       "4             156  \n",
       "..            ...  \n",
       "95            233  \n",
       "96            159  \n",
       "97            179  \n",
       "98            146  \n",
       "99            184  \n",
       "\n",
       "[100 rows x 5 columns]"
      ]
     },
     "execution_count": 15,
     "metadata": {},
     "output_type": "execute_result"
    }
   ],
   "source": [
    "jogadores_hof"
   ]
  },
  {
   "cell_type": "code",
   "execution_count": 16,
   "metadata": {},
   "outputs": [],
   "source": [
    "jogadores_hof.to_csv('../0_bases_originais/dados_originais.csv')"
   ]
  },
  {
   "cell_type": "code",
   "execution_count": 17,
   "metadata": {},
   "outputs": [],
   "source": [
    "jogadores_hof.to_json('../0_bases_originais/dados_originais.json')"
   ]
  }
 ],
 "metadata": {
  "kernelspec": {
   "display_name": "Python 3 (ipykernel)",
   "language": "python",
   "name": "python3"
  },
  "language_info": {
   "codemirror_mode": {
    "name": "ipython",
    "version": 3
   },
   "file_extension": ".py",
   "mimetype": "text/x-python",
   "name": "python",
   "nbconvert_exporter": "python",
   "pygments_lexer": "ipython3",
   "version": "3.12.1"
  }
 },
 "nbformat": 4,
 "nbformat_minor": 2
}
